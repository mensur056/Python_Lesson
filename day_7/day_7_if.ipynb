{
 "cells": [
  {
   "cell_type": "code",
   "execution_count": 5,
   "id": "610a93e3",
   "metadata": {},
   "outputs": [
    {
     "name": "stdout",
     "output_type": "stream",
     "text": [
      "your number is little than 25\n"
     ]
    }
   ],
   "source": [
    "myNumber=24\n",
    "\n",
    "if(myNumber>30):\n",
    "    print('Your number is big than 30 ')\n",
    "\n",
    "elif(myNumber<25):\n",
    "        print('your number is little than 25')\n",
    "else: \n",
    "    print('Your number is ok')"
   ]
  },
  {
   "cell_type": "code",
   "execution_count": 13,
   "id": "6e0a069f",
   "metadata": {},
   "outputs": [
    {
     "ename": "IndentationError",
     "evalue": "expected an indented block (949949603.py, line 8)",
     "output_type": "error",
     "traceback": [
      "\u001b[1;36m  Input \u001b[1;32mIn [13]\u001b[1;36m\u001b[0m\n\u001b[1;33m    myListe.append(otherItem)\u001b[0m\n\u001b[1;37m    ^\u001b[0m\n\u001b[1;31mIndentationError\u001b[0m\u001b[1;31m:\u001b[0m expected an indented block\n"
     ]
    }
   ],
   "source": [
    "myListe=['a','b','c','f']\n",
    "otherItem='g'\n",
    "\n",
    "if(otherItem in myListe):\n",
    "    print('i find')\n",
    "\n",
    "else:\n",
    "myListe.append(otherItem)\n",
    "    print('Your new liste {}'.format(myListe))"
   ]
  }
 ],
 "metadata": {
  "kernelspec": {
   "display_name": "Python 3 (ipykernel)",
   "language": "python",
   "name": "python3"
  },
  "language_info": {
   "codemirror_mode": {
    "name": "ipython",
    "version": 3
   },
   "file_extension": ".py",
   "mimetype": "text/x-python",
   "name": "python",
   "nbconvert_exporter": "python",
   "pygments_lexer": "ipython3",
   "version": "3.9.12"
  }
 },
 "nbformat": 4,
 "nbformat_minor": 5
}
