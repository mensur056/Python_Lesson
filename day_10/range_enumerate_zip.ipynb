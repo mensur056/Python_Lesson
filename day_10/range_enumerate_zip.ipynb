{
 "cells": [
  {
   "cell_type": "code",
   "execution_count": 7,
   "id": "4db87818",
   "metadata": {},
   "outputs": [
    {
     "data": {
      "text/plain": [
       "[0, 1, 2, 3, 4, 5, 6, 7, 8, 9, 10, 11, 12, 13, 14]"
      ]
     },
     "execution_count": 7,
     "metadata": {},
     "output_type": "execute_result"
    }
   ],
   "source": [
    "# RANGE\n",
    "range(0,15)\n",
    "list(range(0,15))\n",
    "#there is another way for to write the range \n",
    "[*range(0,15)]"
   ]
  },
  {
   "cell_type": "code",
   "execution_count": 8,
   "id": "f62c80ae",
   "metadata": {},
   "outputs": [
    {
     "data": {
      "text/plain": [
       "[0, 1, 2, 3, 4, 5, 6, 7, 8, 9, 10, 11, 12, 13, 14]"
      ]
     },
     "execution_count": 8,
     "metadata": {},
     "output_type": "execute_result"
    }
   ],
   "source": [
    "#there is another way for to write the range ,it is same with list(range(0,15))\n",
    "[*range(0,15)]"
   ]
  },
  {
   "cell_type": "code",
   "execution_count": 3,
   "id": "2f9d3e33",
   "metadata": {},
   "outputs": [
    {
     "name": "stdout",
     "output_type": "stream",
     "text": [
      "0\n",
      "1\n",
      "2\n",
      "3\n",
      "4\n",
      "5\n",
      "6\n",
      "7\n",
      "8\n",
      "9\n",
      "10\n",
      "11\n",
      "12\n",
      "13\n",
      "14\n"
     ]
    }
   ],
   "source": [
    "for number in range(0,15):\n",
    "    print(number)"
   ]
  },
  {
   "cell_type": "code",
   "execution_count": 6,
   "id": "83d598ba",
   "metadata": {},
   "outputs": [
    {
     "name": "stdout",
     "output_type": "stream",
     "text": [
      "5\n",
      "6\n",
      "7\n",
      "8\n",
      "9\n"
     ]
    }
   ],
   "source": [
    "for number in range(0,10):\n",
    "    if(number>4):\n",
    "        print(number)\n",
    "   "
   ]
  },
  {
   "cell_type": "code",
   "execution_count": 10,
   "id": "eafb8a41",
   "metadata": {},
   "outputs": [
    {
     "name": "stdout",
     "output_type": "stream",
     "text": [
      "['Mansur', 'Revan', 'Murad', 'Ramazan']\n"
     ]
    }
   ],
   "source": [
    "# ENUMERATE\n",
    "userName=['Mansur','Revan','Murad','Ramazan']\n",
    "print(userName)\n"
   ]
  },
  {
   "cell_type": "code",
   "execution_count": 16,
   "id": "bfee096d",
   "metadata": {},
   "outputs": [
    {
     "name": "stdout",
     "output_type": "stream",
     "text": [
      "Mansur\n",
      "Revan\n",
      "Murad\n",
      "Ramazan\n"
     ]
    }
   ],
   "source": [
    "# if you want to see index of username, \n",
    "\n",
    "userName=['Mansur','Revan','Murad','Ramazan']\n",
    "\n",
    "for index,name in enumerate(userName):\n",
    "    print('')\n",
    "    "
   ]
  }
 ],
 "metadata": {
  "kernelspec": {
   "display_name": "Python 3 (ipykernel)",
   "language": "python",
   "name": "python3"
  },
  "language_info": {
   "codemirror_mode": {
    "name": "ipython",
    "version": 3
   },
   "file_extension": ".py",
   "mimetype": "text/x-python",
   "name": "python",
   "nbconvert_exporter": "python",
   "pygments_lexer": "ipython3",
   "version": "3.9.12"
  }
 },
 "nbformat": 4,
 "nbformat_minor": 5
}
