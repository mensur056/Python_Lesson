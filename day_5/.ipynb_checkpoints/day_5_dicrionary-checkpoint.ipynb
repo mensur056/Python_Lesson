{
 "cells": [
  {
   "cell_type": "code",
   "execution_count": 14,
   "id": "17121859",
   "metadata": {},
   "outputs": [
    {
     "name": "stdout",
     "output_type": "stream",
     "text": [
      "{'name': 'Mansur', 'age': 20, 'location': {'live_place': 'Baku', 'born_country': 'Samakhi'}}\n"
     ]
    }
   ],
   "source": [
    "dictOne={\n",
    "    'name':\"Mansur\",\n",
    "    'age':20,\n",
    "    'location':{\n",
    "        'live_place':'Baku',\n",
    "        'born_country':'Samakhi'\n",
    "    }\n",
    "}\n",
    "print(dictOne)"
   ]
  },
  {
   "cell_type": "code",
   "execution_count": 4,
   "id": "d693fe02",
   "metadata": {},
   "outputs": [
    {
     "name": "stdout",
     "output_type": "stream",
     "text": [
      "Mansur\n",
      "20\n"
     ]
    }
   ],
   "source": [
    "print(dictOne['name'])\n",
    "print(dictOne['age'])"
   ]
  },
  {
   "cell_type": "code",
   "execution_count": 16,
   "id": "54152a9f",
   "metadata": {},
   "outputs": [
    {
     "name": "stdout",
     "output_type": "stream",
     "text": [
      "Baku\n",
      "Samakhi\n"
     ]
    }
   ],
   "source": [
    "print(dictOne['location']['live_place'])\n",
    "print(dictOne['location']['born_country'])"
   ]
  },
  {
   "cell_type": "code",
   "execution_count": 19,
   "id": "dc04039b",
   "metadata": {},
   "outputs": [
    {
     "name": "stdout",
     "output_type": "stream",
     "text": [
      "dict_keys(['name', 'age', 'location'])\n"
     ]
    }
   ],
   "source": [
    "print(dictOne.keys())"
   ]
  },
  {
   "cell_type": "code",
   "execution_count": 18,
   "id": "47c89d58",
   "metadata": {},
   "outputs": [
    {
     "name": "stdout",
     "output_type": "stream",
     "text": [
      "dict_values(['Mansur', 20, {'live_place': 'Baku', 'born_country': 'Samakhi'}])\n"
     ]
    }
   ],
   "source": [
    "print(dictOne.values())"
   ]
  },
  {
   "cell_type": "code",
   "execution_count": 20,
   "id": "05aa1c3a",
   "metadata": {},
   "outputs": [
    {
     "name": "stdout",
     "output_type": "stream",
     "text": [
      "dict_items([('name', 'Mansur'), ('age', 20), ('location', {'live_place': 'Baku', 'born_country': 'Samakhi'})])\n"
     ]
    }
   ],
   "source": [
    "print(dictOne.items())"
   ]
  }
 ],
 "metadata": {
  "kernelspec": {
   "display_name": "Python 3 (ipykernel)",
   "language": "python",
   "name": "python3"
  },
  "language_info": {
   "codemirror_mode": {
    "name": "ipython",
    "version": 3
   },
   "file_extension": ".py",
   "mimetype": "text/x-python",
   "name": "python",
   "nbconvert_exporter": "python",
   "pygments_lexer": "ipython3",
   "version": "3.9.12"
  }
 },
 "nbformat": 4,
 "nbformat_minor": 5
}
