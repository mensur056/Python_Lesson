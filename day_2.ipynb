{
 "cells": [
  {
   "cell_type": "code",
   "execution_count": 1,
   "id": "4d6f5019",
   "metadata": {},
   "outputs": [
    {
     "name": "stdout",
     "output_type": "stream",
     "text": [
      "Hello\n",
      "I am Mansur\n"
     ]
    }
   ],
   "source": [
    "print('Hello\\nI am Mansur')"
   ]
  },
  {
   "cell_type": "code",
   "execution_count": 5,
   "id": "e0a54d23",
   "metadata": {},
   "outputs": [
    {
     "name": "stdout",
     "output_type": "stream",
     "text": [
      "Welcome ,My name is \tResh\n",
      "My name is Mansur, i am 18 years old\n",
      "i am ali years old ,he name is 45\n"
     ]
    }
   ],
   "source": [
    "print('Welcome ,My name is \\tResh')\n",
    "print('My name is {}, i am {} years old'.format('Mansur',18))\n",
    "print('i am {1} years old ,he name is {0}'.format(45,'ali'))"
   ]
  }
 ],
 "metadata": {
  "kernelspec": {
   "display_name": "Python 3 (ipykernel)",
   "language": "python",
   "name": "python3"
  },
  "language_info": {
   "codemirror_mode": {
    "name": "ipython",
    "version": 3
   },
   "file_extension": ".py",
   "mimetype": "text/x-python",
   "name": "python",
   "nbconvert_exporter": "python",
   "pygments_lexer": "ipython3",
   "version": "3.9.12"
  }
 },
 "nbformat": 4,
 "nbformat_minor": 5
}
