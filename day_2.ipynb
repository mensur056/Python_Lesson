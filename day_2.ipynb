{
 "cells": [
  {
   "cell_type": "code",
   "execution_count": 1,
   "id": "236dc855",
   "metadata": {},
   "outputs": [
    {
     "name": "stdout",
     "output_type": "stream",
     "text": [
      "Hello\n",
      "I am Mansur\n"
     ]
    }
   ],
   "source": [
    "print('Hello\\nI am Mansur')"
   ]
  },
  {
   "cell_type": "code",
   "execution_count": 6,
   "id": "108f0b71",
   "metadata": {},
   "outputs": [
    {
     "name": "stdout",
     "output_type": "stream",
     "text": [
      "Welcome ,My name is \tResh\n",
      "My name is Mansur, i am 18 years old\n",
      "He name is ali,i am 45 years old \n"
     ]
    }
   ],
   "source": [
    "print('Welcome ,My name is \\tResh')\n",
    "print('My name is {}, i am {} years old'.format('Mansur',18))\n",
    "print('He name is {1},i am {0} years old '.format(45,'ali'))"
   ]
  }
 ],
 "metadata": {
  "kernelspec": {
   "display_name": "Python 3 (ipykernel)",
   "language": "python",
   "name": "python3"
  },
  "language_info": {
   "codemirror_mode": {
    "name": "ipython",
    "version": 3
   },
   "file_extension": ".py",
   "mimetype": "text/x-python",
   "name": "python",
   "nbconvert_exporter": "python",
   "pygments_lexer": "ipython3",
   "version": "3.9.12"
  }
 },
 "nbformat": 4,
 "nbformat_minor": 5
}
