{
 "cells": [
  {
   "cell_type": "code",
   "execution_count": 1,
   "id": "4e6609a0",
   "metadata": {},
   "outputs": [
    {
     "name": "stdout",
     "output_type": "stream",
     "text": [
      "Hello\n",
      "I am Mansur\n"
     ]
    }
   ],
   "source": [
    "print('Hello\\nI am Mansur')"
   ]
  },
  {
   "cell_type": "code",
   "execution_count": 3,
   "id": "d960a902",
   "metadata": {},
   "outputs": [
    {
     "name": "stdout",
     "output_type": "stream",
     "text": [
      "Welcome ,My name is \tResh\n"
     ]
    },
    {
     "ename": "TypeError",
     "evalue": "format() argument 2 must be str, not int",
     "output_type": "error",
     "traceback": [
      "\u001b[1;31m---------------------------------------------------------------------------\u001b[0m",
      "\u001b[1;31mTypeError\u001b[0m                                 Traceback (most recent call last)",
      "Input \u001b[1;32mIn [3]\u001b[0m, in \u001b[0;36m<cell line: 2>\u001b[1;34m()\u001b[0m\n\u001b[0;32m      1\u001b[0m \u001b[38;5;28mprint\u001b[39m(\u001b[38;5;124m'\u001b[39m\u001b[38;5;124mWelcome ,My name is \u001b[39m\u001b[38;5;130;01m\\t\u001b[39;00m\u001b[38;5;124mResh\u001b[39m\u001b[38;5;124m'\u001b[39m)\n\u001b[1;32m----> 2\u001b[0m \u001b[38;5;28mprint\u001b[39m(\u001b[38;5;124m'\u001b[39m\u001b[38;5;124mMy name is \u001b[39m\u001b[38;5;132;01m{}\u001b[39;00m\u001b[38;5;124m, i am \u001b[39m\u001b[38;5;132;01m{}\u001b[39;00m\u001b[38;5;124m years old\u001b[39m\u001b[38;5;124m'\u001b[39m,\u001b[38;5;28;43mformat\u001b[39;49m\u001b[43m(\u001b[49m\u001b[38;5;124;43m'\u001b[39;49m\u001b[38;5;124;43mMansur\u001b[39;49m\u001b[38;5;124;43m'\u001b[39;49m\u001b[43m,\u001b[49m\u001b[38;5;241;43m18\u001b[39;49m\u001b[43m)\u001b[49m)\n",
      "\u001b[1;31mTypeError\u001b[0m: format() argument 2 must be str, not int"
     ]
    }
   ],
   "source": [
    "print('Welcome ,My name is \\tResh')\n",
    "print('My name is {}, i am {} years old'.format('Mansur',18))"
   ]
  }
 ],
 "metadata": {
  "kernelspec": {
   "display_name": "Python 3 (ipykernel)",
   "language": "python",
   "name": "python3"
  },
  "language_info": {
   "codemirror_mode": {
    "name": "ipython",
    "version": 3
   },
   "file_extension": ".py",
   "mimetype": "text/x-python",
   "name": "python",
   "nbconvert_exporter": "python",
   "pygments_lexer": "ipython3",
   "version": "3.9.12"
  }
 },
 "nbformat": 4,
 "nbformat_minor": 5
}
