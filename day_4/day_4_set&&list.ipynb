{
 "cells": [
  {
   "cell_type": "code",
   "execution_count": 3,
   "id": "a6937b8c",
   "metadata": {},
   "outputs": [
    {
     "name": "stdout",
     "output_type": "stream",
     "text": [
      "['a', 'c', 'w', 'r', 'r', 'o']\n",
      "['a', 'c', 'w', 'r', 'r', 'o', 'x']\n"
     ]
    }
   ],
   "source": [
    "mylist=['a','c','w','r','r','o']\n",
    "print(mylist)\n",
    "mylist=mylist+['x']\n",
    "print(mylist)\n"
   ]
  },
  {
   "cell_type": "code",
   "execution_count": 9,
   "id": "59dfd991",
   "metadata": {},
   "outputs": [
    {
     "name": "stdout",
     "output_type": "stream",
     "text": [
      "[5, 8, 4, 18, 59, 24, 14]\n",
      "[5, 8, 4, 18, 59, 24, 14, 45]\n",
      "[4, 5, 8, 14, 18, 24, 45, 59]\n"
     ]
    }
   ],
   "source": [
    "mynumbers=[5,8,4,18,59,24,14]\n",
    "print(mynumbers)\n",
    "mynumbers.append(45)\n",
    "print(mynumbers)\n",
    "mynumbers.sort()\n",
    "print(mynumbers)"
   ]
  },
  {
   "cell_type": "code",
   "execution_count": 11,
   "id": "d85bf11a",
   "metadata": {},
   "outputs": [
    {
     "name": "stdout",
     "output_type": "stream",
     "text": [
      "[4, 5, 8, 14, 18, 24, 45, 59]\n",
      "[4, 5, 14, 18, 24, 45, 59]\n"
     ]
    }
   ],
   "source": [
    "mynumbers.reverse()\n",
    "print(mynumbers)\n",
    "mynumbers.pop(2)\n",
    "print(mynumbers)\n"
   ]
  },
  {
   "cell_type": "code",
   "execution_count": 13,
   "id": "1a33f2f5",
   "metadata": {},
   "outputs": [
    {
     "name": "stdout",
     "output_type": "stream",
     "text": [
      "[4, 5, 14, 18, 24, 45, 59, 45, 45]\n"
     ]
    },
    {
     "data": {
      "text/plain": [
       "{4, 5, 14, 18, 24, 45, 59}"
      ]
     },
     "execution_count": 13,
     "metadata": {},
     "output_type": "execute_result"
    }
   ],
   "source": [
    "mynumbers.append(45)\n",
    "print(mynumbers)\n",
    "set(mynumbers)"
   ]
  }
 ],
 "metadata": {
  "kernelspec": {
   "display_name": "Python 3 (ipykernel)",
   "language": "python",
   "name": "python3"
  },
  "language_info": {
   "codemirror_mode": {
    "name": "ipython",
    "version": 3
   },
   "file_extension": ".py",
   "mimetype": "text/x-python",
   "name": "python",
   "nbconvert_exporter": "python",
   "pygments_lexer": "ipython3",
   "version": "3.9.12"
  }
 },
 "nbformat": 4,
 "nbformat_minor": 5
}
