{
 "cells": [
  {
   "cell_type": "code",
   "execution_count": 8,
   "id": "73df2764",
   "metadata": {},
   "outputs": [
    {
     "name": "stdout",
     "output_type": "stream",
     "text": [
      "Mansur\n",
      "n\n"
     ]
    }
   ],
   "source": [
    "strmansur='Mansur'\n",
    "print(strmansur)\n",
    "\n",
    "\n",
    "print(strmansur[2])"
   ]
  },
  {
   "cell_type": "code",
   "execution_count": 9,
   "id": "1190f445",
   "metadata": {},
   "outputs": [
    {
     "name": "stdout",
     "output_type": "stream",
     "text": [
      "Mansur read\n"
     ]
    }
   ],
   "source": [
    "strmansur=strmansur+' read'\n",
    "print(strmansur)"
   ]
  },
  {
   "cell_type": "code",
   "execution_count": 11,
   "id": "809236bd",
   "metadata": {},
   "outputs": [
    {
     "name": "stdout",
     "output_type": "stream",
     "text": [
      "Ma\n",
      "ansu\n"
     ]
    }
   ],
   "source": [
    "print(strmansur[:2])\n",
    "print(strmansur[1:5])"
   ]
  },
  {
   "cell_type": "code",
   "execution_count": 12,
   "id": "2671322c",
   "metadata": {},
   "outputs": [
    {
     "name": "stdout",
     "output_type": "stream",
     "text": [
      "Mansur readMansur readMansur readMansur read\n"
     ]
    }
   ],
   "source": [
    "print(strmansur*4) "
   ]
  }
 ],
 "metadata": {
  "kernelspec": {
   "display_name": "Python 3 (ipykernel)",
   "language": "python",
   "name": "python3"
  },
  "language_info": {
   "codemirror_mode": {
    "name": "ipython",
    "version": 3
   },
   "file_extension": ".py",
   "mimetype": "text/x-python",
   "name": "python",
   "nbconvert_exporter": "python",
   "pygments_lexer": "ipython3",
   "version": "3.9.12"
  }
 },
 "nbformat": 4,
 "nbformat_minor": 5
}
