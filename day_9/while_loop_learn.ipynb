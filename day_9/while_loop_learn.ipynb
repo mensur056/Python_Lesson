{
 "cells": [
  {
   "cell_type": "code",
   "execution_count": null,
   "id": "52c5aded",
   "metadata": {},
   "outputs": [],
   "source": [
    " number=0\n",
    "    \n",
    "while number<10:\n",
    "     print('{} is little than 10'.format(number))\n",
    "     number+=1\n",
    "    \n",
    "        "
   ]
  },
  {
   "cell_type": "code",
   "execution_count": null,
   "id": "d527e7fa",
   "metadata": {},
   "outputs": [],
   "source": [
    "number=0\n",
    "while number<10:\n",
    "    print('{} is little than 10'.format(number))\n",
    "    number+=1"
   ]
  }
 ],
 "metadata": {
  "kernelspec": {
   "display_name": "Python 3 (ipykernel)",
   "language": "python",
   "name": "python3"
  },
  "language_info": {
   "codemirror_mode": {
    "name": "ipython",
    "version": 3
   },
   "file_extension": ".py",
   "mimetype": "text/x-python",
   "name": "python",
   "nbconvert_exporter": "python",
   "pygments_lexer": "ipython3",
   "version": "3.9.12"
  }
 },
 "nbformat": 4,
 "nbformat_minor": 5
}
