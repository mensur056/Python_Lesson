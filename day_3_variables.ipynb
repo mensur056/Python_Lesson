{
 "cells": [
  {
   "cell_type": "code",
   "execution_count": 2,
   "id": "411a7d70",
   "metadata": {},
   "outputs": [
    {
     "name": "stdout",
     "output_type": "stream",
     "text": [
      "20\n",
      "50\n"
     ]
    }
   ],
   "source": [
    "number=20\n",
    "print(number)\n",
    "first_number=30\n",
    "second_number=20\n",
    "print(first_number+second_number)\n"
   ]
  },
  {
   "cell_type": "code",
   "execution_count": 4,
   "id": "673b9905",
   "metadata": {},
   "outputs": [
    {
     "name": "stdout",
     "output_type": "stream",
     "text": [
      "21\n"
     ]
    }
   ],
   "source": [
    "number=number+1\n",
    "print(number)\n",
    "number=first_number+second_number"
   ]
  }
 ],
 "metadata": {
  "kernelspec": {
   "display_name": "Python 3 (ipykernel)",
   "language": "python",
   "name": "python3"
  },
  "language_info": {
   "codemirror_mode": {
    "name": "ipython",
    "version": 3
   },
   "file_extension": ".py",
   "mimetype": "text/x-python",
   "name": "python",
   "nbconvert_exporter": "python",
   "pygments_lexer": "ipython3",
   "version": "3.9.12"
  }
 },
 "nbformat": 4,
 "nbformat_minor": 5
}
