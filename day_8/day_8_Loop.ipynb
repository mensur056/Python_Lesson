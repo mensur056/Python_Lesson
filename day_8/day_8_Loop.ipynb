{
 "cells": [
  {
   "cell_type": "code",
   "execution_count": 3,
   "id": "44fbda3e",
   "metadata": {},
   "outputs": [
    {
     "name": "stdout",
     "output_type": "stream",
     "text": [
      "1 Mansur Serxanov\n",
      "2 Revan Mecidov\n",
      "3 Ramazan Mecidov\n",
      "4 Murad Abdulhesimov\n",
      "5 Kenan Besirli\n"
     ]
    }
   ],
   "source": [
    "users=['Mansur Serxanov','Revan Mecidov','Ramazan Mecidov','Murad Abdulhesimov','Kenan Besirli']\n",
    "user_number=0\n",
    "for user in users:\n",
    "    user_number=user_number+1\n",
    "    print(user_number,user)"
   ]
  },
  {
   "cell_type": "code",
   "execution_count": 9,
   "id": "a860a3cb",
   "metadata": {},
   "outputs": [
    {
     "name": "stdout",
     "output_type": "stream",
     "text": [
      "1. Username is Mansur and Surname is Serxanov\n",
      "2. Username is Revan and Surname is Mecidov\n",
      "3. Username is Ramazan and Surname is Mecidov\n",
      "4. Username is Murad and Surname is Abdulhesimov\n",
      "5. Username is Kenan and Surname is Besirli\n"
     ]
    }
   ],
   "source": [
    "users=['Mansur Serxanov','Revan Mecidov','Ramazan Mecidov','Murad Abdulhesimov','Kenan Besirli']\n",
    "user_number=0\n",
    "\n",
    "for user in users:\n",
    "    name,surname=user.split()[0],user.split()[1]\n",
    "    user_number=user_number+1\n",
    "    print('{0}. Username is {1} and Surname is {2}'.format(user_number,name,surname))\n"
   ]
  }
 ],
 "metadata": {
  "kernelspec": {
   "display_name": "Python 3 (ipykernel)",
   "language": "python",
   "name": "python3"
  },
  "language_info": {
   "codemirror_mode": {
    "name": "ipython",
    "version": 3
   },
   "file_extension": ".py",
   "mimetype": "text/x-python",
   "name": "python",
   "nbconvert_exporter": "python",
   "pygments_lexer": "ipython3",
   "version": "3.9.12"
  }
 },
 "nbformat": 4,
 "nbformat_minor": 5
}
